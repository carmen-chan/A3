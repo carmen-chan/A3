{
  "nbformat": 4,
  "nbformat_minor": 0,
  "metadata": {
    "colab": {
      "name": "A3_12614246",
      "provenance": [],
      "collapsed_sections": [],
      "include_colab_link": true
    },
    "kernelspec": {
      "name": "python3",
      "display_name": "Python 3"
    }
  },
  "cells": [
    {
      "cell_type": "markdown",
      "metadata": {
        "id": "view-in-github",
        "colab_type": "text"
      },
      "source": [
        "<a href=\"https://colab.research.google.com/github/carmen-chan/A3/blob/master/A3_12614246.ipynb\" target=\"_parent\"><img src=\"https://colab.research.google.com/assets/colab-badge.svg\" alt=\"Open In Colab\"/></a>"
      ]
    },
    {
      "cell_type": "code",
      "metadata": {
        "id": "Lm1oWgS7guy5",
        "colab_type": "code",
        "colab": {}
      },
      "source": [
        ""
      ],
      "execution_count": 0,
      "outputs": []
    },
    {
      "cell_type": "markdown",
      "metadata": {
        "id": "gEn-gqJWjW3u",
        "colab_type": "text"
      },
      "source": [
        "# Report on Twitter Message Prediction\n",
        "Carmen Chan 12614246\n",
        "\n",
        "*This report can also be found at https://github.com/carmen-chan/A3/blob/master/A3_12614246.ipynb*"
      ]
    },
    {
      "cell_type": "markdown",
      "metadata": {
        "id": "WVbCKIebhHcI",
        "colab_type": "text"
      },
      "source": [
        "# The Problem Challenges\n",
        "## Obtaining Data\n",
        " \n",
        "\n",
        "Many social media platforms have strict privacy policies making data unavailable for research use. Also, obtaining complete follower information for each user is extremely costly.\n",
        "These issues potentially result in having gaps in the data which provides an incomplete representation of the population, resulting in inaccurate data analysis.\n",
        "\tThere is also the human element that needs to be factored in. A piece of content in the form of a tweet or meme should have something that makes it novel, that would urge the consumer to share it  (Wu & Huberman, 2007). The idea of something being novel is incredibly subjective and would vary from person to person.\n",
        "  \n",
        "## Prediction\n",
        "The social media environment is unpredictable and prone to external influences such as major news and events, changing cultural norms, and mixed consumer sentiment resulting in difficulties in predicting virality. Potentially influential variables must be identified and addressed to create more accurate predictions and prevent distortion (Yamaguchi, 2014).\n"
      ]
    },
    {
      "cell_type": "markdown",
      "metadata": {
        "id": "g-24BIrBhmCa",
        "colab_type": "text"
      },
      "source": [
        "# Approaches\n",
        "## Feature-based classification\n",
        "The feature-based classification approach strives to determine the features that can be distinguished of viral messages and to use supervised machine learning techniques to understand these features. Through the understanding of network structure and social information diffusion processes, prominent features of social media posts are identified and studied. Using these features, virality prediction can be performed to determine what could be a strong indicator of virality.\n",
        "This method extracts communities based on an information sharing network instead of a follower network. It requires a new hashtag that has been used at least 25 times within a certain period. The main point of this approach is to determine whether the diffusion diversity feature based on community structure gives a predictive indicator and if this indicator is useful in a wide scale of the information sharing networks. \n",
        "\n",
        "\n",
        "\n",
        "* Each hashtag is either viral (1) or not viral (0)\n",
        "* All hashtags are ranked from highest to lowest by adopter entropy. This measures the concentration of meme adopters across communities, with large entropy indicating a high diffusion diversity.\n",
        "* The top 50% of hashtags of the adopter entropy ranking are predicted as viral\n",
        "* The Receiver Operating Characteristic (ROC) curve and the area under the curve are used to assess the accuracy of the prediction (Hui, Weng, Sahami, Ahn & Menczer 2018)\n",
        "\n",
        "## Sentiment Analysis\n",
        "An approach known as ‘SentiStrength’ uses sentiment analysis to classify sentiments in social networks. This is an algorithm that is used to extract the strength of the sentiment, whether it is a positive, negative or neutral sentiment strength from text used on social media. The grammar and spelling styles of messages on social media is used to build on human made dictionaries that contains words associated with positive and negative sentiments.\n",
        "\n",
        "This approach has been tested on MySpace comments and it was observed to have high accuracy with identifying the sentiments. SentiStrength claims that is is robust enough to be able to be implemented to a more extensive range of social web contexts. Furthermore, it was found that the proportion of tweets is similar to that of retweets (Jenders, Kasneci & Naumann 2013).\n"
      ]
    },
    {
      "cell_type": "markdown",
      "metadata": {
        "id": "HCybm29-idL1",
        "colab_type": "text"
      },
      "source": [
        "# Validation of Approaches\n",
        "A validation dataset be used to evaluate and validate these approaches by using a separate dataset for training and testing. The training data is used to build a model which is then run against the testing dataset to predict whether a Twitter message will spread as a meme or not.\n",
        "\n",
        "Another easy but tedious way to validate sentimental analysis is to use humans to read the tweets and then determine whether it is positive, negative, or neutral. These results should be compared to the results from the algorithm and used for validation. Another way that could be used is to build another model using a larger dataset to train the tweets and classify them."
      ]
    },
    {
      "cell_type": "markdown",
      "metadata": {
        "id": "7w-WfssniUEZ",
        "colab_type": "text"
      },
      "source": [
        "# Ethical and Social Consequences\n",
        "## Privacy\n",
        "Privacy is an ongoing concern in the data analytics field as personal data is used mainly to help companies to improve their performance. However, individuals that have access to this data may not use it as intended. Data collected could be stored for a long time which increases the risk that unauthorised individuals are able to access. A breach of privacy can result in a loss of trust which may cause individuals to not share their data in the future and not use services that collect data at all. This negatively affects data analytics as a decrease of data shared means a smaller dataset and lower variety of tweets in this case, therefore less accurate results.\n",
        "\n",
        "## Transparency/Misleading\n",
        "Social media is renowned for advertising and marketing but it can be misleading towards the target audience. Companies may use the information obtained through the prediction of whether a Twitter message will spread as a meme or not to create misleading advertisements. Furthermore they may pay people who they think will create tweets that will spread as a meme to advertise for them. It can be seen as unethical if these people are paid to advertise for the company but do not disclose that they are being paid for it or sponsored.\n"
      ]
    },
    {
      "cell_type": "markdown",
      "metadata": {
        "id": "SPO-c5j6iifE",
        "colab_type": "text"
      },
      "source": [
        "# References\n",
        " Hui, P., Weng, L., Sahami, A., Ahn, Y. & Menczer, F. 2018, Scalable Detection of Viral Memes from Diffusion Patterns’, Complex Spreading Phenomena in Social Systems, Bloomington\n",
        "\n",
        "Jenders, M., Kasneci, G. & Naumann, F. 2013,  ‘Analyzing and Predicting Viral Tweets’, Proceedings of the 22nd International Conference on World Wide Web, WWW Companion, Rio de Janeiro, pp.657-664\n",
        "\n",
        "Wu, F. and Huberman, B. 2007, ‘Novelty and Collective Attention’, PNAS, vol. 104, no.45, pp.17599-17601\n",
        "\n",
        "Yamaguchi, K. 2014, 20 Reasons Why Social Analytics Is A Nightmare — And What To Do About It, viewed 5 October 2019, <https://marketingland.com/20-reasons-social-analytics-nightmare-89676>\n",
        "\n"
      ]
    }
  ]
}